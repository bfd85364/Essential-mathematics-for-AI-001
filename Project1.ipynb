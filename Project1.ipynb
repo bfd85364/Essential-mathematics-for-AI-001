{
 "cells": [
  {
   "cell_type": "code",
   "execution_count": 1,
   "id": "39a34d4d-afea-4ab5-81a6-f704437a1d34",
   "metadata": {
    "scrolled": true
   },
   "outputs": [
    {
     "name": "stdout",
     "output_type": "stream",
     "text": [
      "Matrix of the Maximum Blood presure\n",
      "[[1 1 0 0 0]\n",
      " [0 1 1 0 0]\n",
      " [0 0 1 1 0]\n",
      " [1 0 0 1 1]] \n",
      "\n",
      "[[28]\n",
      " [130]\n",
      " [123]\n",
      " [X1 + 3]] \n",
      "\n",
      "Matrix of the Minimum Blood presure\n",
      "[[ 1 -1  0  0  0]\n",
      " [ 0 -1  1  0  0]\n",
      " [ 0  0  1 -1  0]\n",
      " [ 1  0  0  1 -1]] \n",
      "\n",
      "[[8]\n",
      " [110]\n",
      " [117]\n",
      " [3 - X1]] \n",
      "\n"
     ]
    }
   ],
   "source": [
    "import numpy as np\n",
    "import pandas as pd \n",
    "import sympy as sp\n",
    "\n",
    "#Matrix A = linear equation of the Maximum Blood presure\n",
    "A= np.array([[1,1,0,0,0],\n",
    "              [0,1,1,0,0],\n",
    "              [0,0,1,1,0],\n",
    "              [1,0,0,1,1]])\n",
    "\n",
    "X1, X2, X3, X4, X5 = sp.symbols('X1 X2 X3 X4 X5')\n",
    "\n",
    "#MA = Maximum Blood presure\n",
    "MA= np.array([[28],\n",
    "              [130],\n",
    "              [123],\n",
    "              [3+X1]])\n",
    "\n",
    "#Matrix B = Minimum Blood presure\n",
    "B= np.array([[1,-1,0,0,0],\n",
    "            [0,-1,1,0,0],\n",
    "            [0,0,1,-1,0],\n",
    "            [1,0,0,1,-1]])\n",
    "\n",
    "MB= np.array([[8],\n",
    "              [110],\n",
    "              [117],\n",
    "              [3-X1]])\n",
    "\n",
    "print(\"Matrix of the Maximum Blood presure\")\n",
    "print(A,\"\\n\")\n",
    "print(MA,\"\\n\")\n",
    "\n",
    "print(\"Matrix of the Minimum Blood presure\")\n",
    "print(B,\"\\n\")\n",
    "print(MB,\"\\n\")\n"
   ]
  },
  {
   "cell_type": "code",
   "execution_count": 2,
   "id": "56c251e7-fc4e-41ae-9511-5d35089d1195",
   "metadata": {},
   "outputs": [
    {
     "name": "stdout",
     "output_type": "stream",
     "text": [
      "Extraction equation from Matrix\n",
      "\n",
      "when the range in Max\n",
      "Eq(X1 + X2, 28)\n",
      "Eq(X2 + X3, 130)\n",
      "Eq(X3 + X4, 123)\n",
      "Eq(X4 + X5, X1 + 3)\n",
      "\n",
      "Solution in Maximum range in X1, X2, X3, X4, X5:\n",
      "{X1: X5/2 + 9, X2: 19 - X5/2, X3: X5/2 + 111, X4: 12 - X5/2} \n",
      "\n"
     ]
    }
   ],
   "source": [
    "print(\"Extraction equation from Matrix\\n\")\n",
    "print(\"when the range in Max\")\n",
    "\n",
    "#Max N= equation N of maximum range\n",
    " \n",
    " #Define the equations\n",
    "Max1 = sp.Eq(X1 + X2, 28)\n",
    "Max2 = sp.Eq(X2 + X3, 130)\n",
    "Max3 = sp.Eq(X3 + X4, 123)\n",
    "Max4 = sp.Eq(X4 + X5, 3 + X1)\n",
    "\n",
    "# Display equations\n",
    "print(Max1)\n",
    "print(Max2)\n",
    "print(Max3)\n",
    "print(Max4)\n",
    "\n",
    "# MaxE soultion of maximum range equations\n",
    "MaxE= sp.solve([Max1,Max2,Max3,Max4],\n",
    "             (X1,X2,X3,X4,X5))\n",
    "\n",
    "print(\"\\nSolution in Maximum range in X1, X2, X3, X4, X5:\")\n",
    "print(MaxE,\"\\n\")\n",
    "\n"
   ]
  },
  {
   "cell_type": "code",
   "execution_count": null,
   "id": "e4f50378-4630-43e6-bdba-c70c76fe4b78",
   "metadata": {},
   "outputs": [],
   "source": []
  },
  {
   "cell_type": "code",
   "execution_count": 3,
   "id": "ac09120d-7e79-4eff-aee7-6277b88ce8ff",
   "metadata": {},
   "outputs": [
    {
     "name": "stdout",
     "output_type": "stream",
     "text": [
      "Extraction equation from Matrix\n",
      "\n",
      "when the range in Min\n",
      "Eq(X1 - X2, 8)\n",
      "Eq(X2 - X3, 110)\n",
      "Eq(X3 - X4, 117)\n",
      "Eq(X4 - X5, 3 - X1)\n",
      "\n",
      "Solution in minimum range in X1, X2, X3, X4, X5:\n",
      "{X1: X5/2 + 119, X2: X5/2 + 111, X3: X5/2 + 1, X4: X5/2 - 116} \n",
      "\n"
     ]
    }
   ],
   "source": [
    "print(\"Extraction equation from Matrix\\n\")\n",
    "print(\"when the range in Min\")\n",
    "\n",
    "#min N= equation N of minimum range\n",
    " \n",
    " #Define the equations\n",
    "min1 = sp.Eq(-X2+X1, 8)\n",
    "min2 = sp.Eq(-X3+X2, 110)\n",
    "min3 = sp.Eq(-X4+X3, 117)\n",
    "min4 = sp.Eq(-X5+X4, 3 - X1)\n",
    "\n",
    "# Display equations\n",
    "print(min1)\n",
    "print(min2)\n",
    "print(min3)\n",
    "print(min4)\n",
    "\n",
    "# MaxE soultion of maximum range equations\n",
    "minE= sp.solve([min1,min2,min3,min4],\n",
    "             (X1,X2,X3,X4,X5))\n",
    "\n",
    "print(\"\\nSolution in minimum range in X1, X2, X3, X4, X5:\")\n",
    "print(minE,\"\\n\")\n",
    "\n"
   ]
  },
  {
   "cell_type": "code",
   "execution_count": null,
   "id": "2ba3d1f9-b3a7-4ff0-af9a-d4a3443d9a5f",
   "metadata": {},
   "outputs": [],
   "source": []
  }
 ],
 "metadata": {
  "kernelspec": {
   "display_name": "Python 3 (ipykernel)",
   "language": "python",
   "name": "python3"
  },
  "language_info": {
   "codemirror_mode": {
    "name": "ipython",
    "version": 3
   },
   "file_extension": ".py",
   "mimetype": "text/x-python",
   "name": "python",
   "nbconvert_exporter": "python",
   "pygments_lexer": "ipython3",
   "version": "3.12.4"
  }
 },
 "nbformat": 4,
 "nbformat_minor": 5
}
